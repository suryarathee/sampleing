{
 "cells": [
  {
   "cell_type": "code",
   "execution_count": null,
   "metadata": {
    "vscode": {
     "languageId": "plaintext"
    }
   },
   "outputs": [],
   "source": [
    "import pandas as pd\n",
    "import numpy as np\n",
    "from sklearn.metrics import accuracy_score\n",
    "from sklearn.model_selection import train_test_split\n",
    "from sklearn.linear_model import LogisticRegression\n",
    "from sklearn.tree import DecisionTreeClassifier\n",
    "from sklearn.ensemble import RandomForestClassifier\n",
    "from sklearn.naive_bayes import GaussianNB\n",
    "from sklearn.svm import SVC\n",
    "from imblearn.over_sampling import SMOTE\n",
    "from sklearn.utils import resample\n",
    "data = pd.read_csv('Creditcard_data.csv')\n",
    "\n"
   ]
  },
  {
   "metadata": {},
   "cell_type": "code",
   "outputs": [],
   "execution_count": null,
   "source": [
    "features = data.drop()\n",
    "labels = data['Class']\n",
    "smote_resampler = SMOTE(random_state=14)\n",
    "balanced_features, balanced_labels = smote_resampler.fit_resample(features, labels)"
   ]
  },
  {
   "metadata": {},
   "cell_type": "code",
   "outputs": [],
   "execution_count": null,
   "source": [
    "def random_sample(features, labels, sample_size):\n",
    "    return resample(features, labels, n_samples=sample_size, random_state=42)\n",
    "\n",
    "def stratified_sample(features, labels, sample_size):\n",
    "    from sklearn.model_selection import StratifiedShuffleSplit\n",
    "    strat_split = StratifiedShuffleSplit(n_splits=1, test_size=sample_size / len(labels), random_state=42)\n",
    "    for train_idx, _ in strat_split.split(features, labels):\n",
    "        return features.iloc[train_idx], labels.iloc[train_idx]\n"
   ]
  },
  {
   "metadata": {},
   "cell_type": "code",
   "outputs": [],
   "execution_count": null,
   "source": [
    "sample_sizes = [int(len(balanced_features) * 0.1 * i) for i in range(1, 6)]\n",
    "\n",
    "\n",
    "sampling_methods = {\n",
    "    \"sample1\": random_sample(balanced_features, balanced_labels, sample_sizes[0]),\n",
    "    \"sample2\": random_sample(balanced_features, balanced_labels, sample_sizes[1]),\n",
    "    \"sample3\": stratified_sample(balanced_features, balanced_labels, sample_sizes[2]),\n",
    "    \"sample4\": random_sample(balanced_features, balanced_labels, sample_sizes[3]),\n",
    "    \"sample5\": stratified_sample(balanced_features, balanced_labels, sample_sizes[4]),\n",
    "}\n",
    "classifiers = {\n",
    "    \"LogReg\": LogisticRegression(),\n",
    "    \"RandForest\": RandomForestClassifier(),\n",
    "    \"DecTree\": DecisionTreeClassifier(),\n",
    "    \"NaiveBayes\": GaussianNB(),\n",
    "    \"SVM\": SVC()\n",
    "}\n"
   ]
  },
  {
   "metadata": {},
   "cell_type": "code",
   "outputs": [],
   "execution_count": null,
   "source": [
    "\n",
    "\n",
    "evaluation_results = pd.DataFrame(columns=[\"Sample\", \"Classifier\", \"Accuracy\"])\n",
    "\n",
    "\n",
    "for sample_label, (X_sample, y_sample) in sampling_methods.items():\n",
    "\n",
    "    X_train, X_test, y_train, y_test = train_test_split(X_sample, y_sample, test_size=0.2, random_state=42)\n",
    "\n",
    "    for model_label, model in classifiers.items():\n",
    "\n",
    "        model.fit(X_train, y_train)\n",
    "\n",
    "\n",
    "        predictions = model.predict(X_test)\n",
    "        acc = accuracy_score(y_test, predictions)\n",
    "\n",
    "\n",
    "        evaluation_results = pd.concat([\n",
    "            evaluation_results,\n",
    "            pd.DataFrame([{\"Sample\": sample_label, \"Classifier\": model_label, \"Accuracy\": acc}])\n",
    "        ], ignore_index=True)\n"
   ]
  },
  {
   "metadata": {},
   "cell_type": "code",
   "outputs": [],
   "execution_count": null,
   "source": [
    "evaluation_results.to_csv('results.csv', index=False)\n",
    "\n",
    "\n",
    "print(\"Results saved to 'results.csv'\")"
   ]
  }
 ],
 "metadata": {
  "language_info": {
   "name": "python"
  }
 },
 "nbformat": 4,
 "nbformat_minor": 2
}
